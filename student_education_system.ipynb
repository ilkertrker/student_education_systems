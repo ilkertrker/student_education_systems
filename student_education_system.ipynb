{
  "nbformat": 4,
  "nbformat_minor": 0,
  "metadata": {
    "colab": {
      "provenance": [],
      "authorship_tag": "ABX9TyM78xBjpqIIsjar52hkaFUc",
      "include_colab_link": true
    },
    "kernelspec": {
      "name": "python3",
      "display_name": "Python 3"
    },
    "language_info": {
      "name": "python"
    }
  },
  "cells": [
    {
      "cell_type": "markdown",
      "metadata": {
        "id": "view-in-github",
        "colab_type": "text"
      },
      "source": [
        "<a href=\"https://colab.research.google.com/github/ilkertrker/student_education_systems/blob/main/student_education_system.ipynb\" target=\"_parent\"><img src=\"https://colab.research.google.com/assets/colab-badge.svg\" alt=\"Open In Colab\"/></a>"
      ]
    },
    {
      "cell_type": "code",
      "execution_count": 4,
      "metadata": {
        "colab": {
          "base_uri": "https://localhost:8080/"
        },
        "id": "xkDh9abw-ywS",
        "outputId": "1b5502bf-768c-4b4c-ddd2-9b2b1d14e80a"
      },
      "outputs": [
        {
          "output_type": "stream",
          "name": "stdout",
          "text": [
            "(1, 'Mehmet Akif', 'Arvas', 10, '1a')\n",
            "(2, 'Sevde', 'Karabacak', 11, '1a')\n",
            "(3, 'Nisa', 'Genç', 12, '2a')\n",
            "(4, 'Buse', 'Şengül', 13, '2a')\n",
            "(0, None, None, None, None, None, None, None)\n",
            "(1, 'türkçe', 10, 50, 60, '', None, 1)\n",
            "(2, 'türkçe', 11, 100, 80, '', '', 1)\n",
            "(3, 'türkçe', 12, 10, 20, '', '', 1)\n",
            "(4, 'türkçe', 13, 40, 5, '', '', 1)\n",
            "(5, 'python', 10, 50, 65, '', '', 1)\n",
            "(6, 'python', 11, 100, 60, '', None, 1)\n",
            "(7, 'python', 12, 80, 50, '', '', 1)\n",
            "(9, 'matematik', 10, 10, 60, '', '', 2)\n",
            "(11, 'matematik', 11, 100, 60, '', None, 2)\n",
            "(12, 'matematik', 12, 80, 50, '', '', 2)\n",
            "(13, 'matematik', 13, 60, 95, '', '', 2)\n",
            "(14, 'fizik', 10, 10, 60, '', '', 2)\n",
            "(15, 'fizik', 11, 100, 60, '', None, 2)\n",
            "(16, 'fizik', 12, 80, 50, '', '', 2)\n",
            "(17, 'fizik', 13, 60, 95, '', '', 2)\n",
            "(18, 'python', 13, 80, 50, 0, '', 1)\n"
          ]
        }
      ],
      "source": [
        "import sqlite3 as sql\n",
        "import matplotlib.pyplot as plt\n",
        "import numpy as np\n",
        "\n",
        "baglanti=sql.connect(\"veritabani.db\")\n",
        "tara= baglanti.cursor()\n",
        "\n",
        "def verileri_listele():\n",
        "  listele=\"SELECT * From ogrenciler\"\n",
        "  tara.execute(listele)\n",
        "  sonuc=tara.fetchall()\n",
        "  for i in sonuc:\n",
        "    print(i)\n",
        "\n",
        "\n",
        "  listele=\"SELECT * From dersler\"\n",
        "  tara.execute(listele)\n",
        "  sonuc=tara.fetchall()\n",
        "  for i in sonuc:\n",
        "    print(i)\n",
        "\n"
      ]
    },
    {
      "cell_type": "markdown",
      "source": [
        "**Grafik görselleştirme matlot ile**"
      ],
      "metadata": {
        "id": "-RCs8yiAJRLP"
      }
    },
    {
      "cell_type": "code",
      "source": [
        "import sqlite3 as sql\n",
        "import matplotlib.pyplot as plt\n",
        "import numpy as np\n",
        "\n",
        "baglanti=sql.connect(\"veritabani.db\")\n",
        "tara= baglanti.cursor()\n",
        "\n",
        "def verileri_listele():\n",
        "  listele=\"SELECT * From ogrenciler\"\n",
        "  tara.execute(listele)\n",
        "  sonuc=tara.fetchall()\n",
        "  for i in sonuc:\n",
        "    print(i)\n",
        "\n",
        "\n",
        "  listele=\"SELECT * From dersler\"\n",
        "  tara.execute(listele)\n",
        "  sonuc=tara.fetchall()\n",
        "  for i in sonuc:\n",
        "    print(i)\n",
        "\n",
        "tara.execute(\"SELECT id,ders,vize From dersler Where ders='türkçe'\")\n",
        "sonuc=tara.fetchall()\n",
        "x=np.array([])\n",
        "y=np.array([])\n",
        "for i in sonuc:\n",
        "  x=np.append(x,[i[0]])\n",
        "  y=np.append(y,[i[2]])\n",
        "#grafiği çıkartmak için komutlar\n",
        "fig,grafik=plt.subplots()\n",
        "grafik.plot(x,y)\n",
        "plt.show()\n",
        ""
      ],
      "metadata": {
        "colab": {
          "base_uri": "https://localhost:8080/",
          "height": 430
        },
        "id": "2BdhyUfZJKtQ",
        "outputId": "1663a140-9670-49fb-9ee4-8e93a66b9e7a"
      },
      "execution_count": 12,
      "outputs": [
        {
          "output_type": "display_data",
          "data": {
            "text/plain": [
              "<Figure size 640x480 with 1 Axes>"
            ],
            "image/png": "[encoded data removed]"
          },
          "metadata": {}
        }
      ]
    }
  ]
}